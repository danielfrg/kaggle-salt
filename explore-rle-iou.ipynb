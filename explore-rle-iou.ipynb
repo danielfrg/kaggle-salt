{
 "cells": [
  {
   "cell_type": "markdown",
   "metadata": {},
   "source": [
    "## Notebook used to understand the Run-Length Enconding (RLE)\n",
    "\n",
    "From: https://en.wikipedia.org/wiki/Run-length_encoding\n",
    "\n",
    "Run-length encoding (RLE) is a very simple form of lossless data compression in which runs of data (that is, sequences in which the same data value occurs in many consecutive data elements) are stored as a single data value and count, rather than as the original run. This is most useful on data that contains many such runs. Consider, for example, simple graphic images such as icons, line drawings, and animations. It is not useful with files that don't have many runs as it could greatly increase the file size.\n",
    "\n",
    "A hypothetical scan line, with B representing a black pixel and W representing white, might read as follows:\n",
    "\n",
    "```\n",
    "WWWWWWWWWWWWBWWWWWWWWWWWWBBBWWWWWWWWWWWWWWWWWWWWWWWWBWWWWWWWWWWWWWW\n",
    "```\n",
    "\n",
    "With a run-length encoding (RLE) data compression algorithm applied to the above hypothetical scan line, it can be rendered as follows:\n",
    "\n",
    "```\n",
    "12W1B12W3B24W1B14W\n",
    "```"
   ]
  },
  {
   "cell_type": "code",
   "execution_count": 1,
   "metadata": {},
   "outputs": [
    {
     "name": "stderr",
     "output_type": "stream",
     "text": [
      "/home/ubuntu/.local/share/virtualenvs/kaggle-salt-WGcE8zWi/lib/python3.6/importlib/_bootstrap.py:219: RuntimeWarning: numpy.dtype size changed, may indicate binary incompatibility. Expected 96, got 88\n",
      "  return f(*args, **kwds)\n",
      "/home/ubuntu/.local/share/virtualenvs/kaggle-salt-WGcE8zWi/lib/python3.6/importlib/_bootstrap.py:219: RuntimeWarning: numpy.dtype size changed, may indicate binary incompatibility. Expected 96, got 88\n",
      "  return f(*args, **kwds)\n"
     ]
    }
   ],
   "source": [
    "import numpy as np\n",
    "import pandas as pd\n",
    "import matplotlib.pyplot as plt\n",
    "\n",
    "from tensorflow.keras.preprocessing import image as image_utils"
   ]
  },
  {
   "cell_type": "code",
   "execution_count": 2,
   "metadata": {},
   "outputs": [],
   "source": [
    "train_df = pd.read_csv(\"data/train.csv\")"
   ]
  },
  {
   "cell_type": "code",
   "execution_count": 3,
   "metadata": {},
   "outputs": [
    {
     "data": {
      "text/html": [
       "<div>\n",
       "<style scoped>\n",
       "    .dataframe tbody tr th:only-of-type {\n",
       "        vertical-align: middle;\n",
       "    }\n",
       "\n",
       "    .dataframe tbody tr th {\n",
       "        vertical-align: top;\n",
       "    }\n",
       "\n",
       "    .dataframe thead th {\n",
       "        text-align: right;\n",
       "    }\n",
       "</style>\n",
       "<table border=\"1\" class=\"dataframe\">\n",
       "  <thead>\n",
       "    <tr style=\"text-align: right;\">\n",
       "      <th></th>\n",
       "      <th>id</th>\n",
       "      <th>rle_mask</th>\n",
       "    </tr>\n",
       "  </thead>\n",
       "  <tbody>\n",
       "    <tr>\n",
       "      <th>0</th>\n",
       "      <td>575d24d81d</td>\n",
       "      <td>NaN</td>\n",
       "    </tr>\n",
       "    <tr>\n",
       "      <th>1</th>\n",
       "      <td>a266a2a9df</td>\n",
       "      <td>5051 5151</td>\n",
       "    </tr>\n",
       "    <tr>\n",
       "      <th>2</th>\n",
       "      <td>75efad62c1</td>\n",
       "      <td>9 93 109 94 210 94 310 95 411 95 511 96 612 96...</td>\n",
       "    </tr>\n",
       "    <tr>\n",
       "      <th>3</th>\n",
       "      <td>34e51dba6a</td>\n",
       "      <td>48 54 149 54 251 53 353 52 455 51 557 50 659 4...</td>\n",
       "    </tr>\n",
       "    <tr>\n",
       "      <th>4</th>\n",
       "      <td>4875705fb0</td>\n",
       "      <td>1111 1 1212 1 1313 1 1414 1 1514 2 1615 2 1716...</td>\n",
       "    </tr>\n",
       "  </tbody>\n",
       "</table>\n",
       "</div>"
      ],
      "text/plain": [
       "           id                                           rle_mask\n",
       "0  575d24d81d                                                NaN\n",
       "1  a266a2a9df                                          5051 5151\n",
       "2  75efad62c1  9 93 109 94 210 94 310 95 411 95 511 96 612 96...\n",
       "3  34e51dba6a  48 54 149 54 251 53 353 52 455 51 557 50 659 4...\n",
       "4  4875705fb0  1111 1 1212 1 1313 1 1414 1 1514 2 1615 2 1716..."
      ]
     },
     "execution_count": 3,
     "metadata": {},
     "output_type": "execute_result"
    }
   ],
   "source": [
    "train_df.head()"
   ]
  },
  {
   "cell_type": "code",
   "execution_count": 4,
   "metadata": {},
   "outputs": [
    {
     "data": {
      "image/png": "[encoded data removed]",
      "text/plain": [
       "<Figure size 1080x360 with 5 Axes>"
      ]
     },
     "metadata": {},
     "output_type": "display_data"
    }
   ],
   "source": [
    "n_images = 5\n",
    "fig, axarr = plt.subplots(1, n_images, figsize=(15, 5))\n",
    "for image in range(n_images):\n",
    "    axarr[image].imshow(image_utils.load_img(\"data/train/masks/{}.png\".format(train_df.loc[image].id), grayscale=True))\n",
    "fig.tight_layout()"
   ]
  },
  {
   "cell_type": "markdown",
   "metadata": {},
   "source": [
    "In this case the encoding is based on pairs of `(index, length)` where the value is 1.\n",
    "\n",
    "Then the pairs get concatenated in a flat list: `[index0, length0, index1, length1, ...]`\n",
    "\n",
    "Black is 0 and White is 1. White is the Mask in this case White = Salt."
   ]
  },
  {
   "cell_type": "markdown",
   "metadata": {},
   "source": [
    "## Functions\n",
    "\n",
    "Write functions that decode and encode to and from RLE"
   ]
  },
  {
   "cell_type": "code",
   "execution_count": 5,
   "metadata": {},
   "outputs": [],
   "source": [
    "import math"
   ]
  },
  {
   "cell_type": "code",
   "execution_count": 6,
   "metadata": {},
   "outputs": [],
   "source": [
    "def rle_decode(rle, shape):\n",
    "    '''\n",
    "    rle: run-length string or list of pairs of (start, length)\n",
    "    shape: (height, width) of array to return \n",
    "    Returns\n",
    "    -------\n",
    "        np.array: 1 - mask, 0 - background\n",
    "    '''\n",
    "    if isinstance(rle, float) and math.isnan(rle):\n",
    "        rle = []\n",
    "    if isinstance(rle, str):\n",
    "        rle = [int(num) for num in rle.split(' ')]\n",
    "    # [0::2] means skip 2 since 0 until the end - list[start:end:skip]\n",
    "    starts, lengths = [np.asarray(x, dtype=int) for x in (rle[0:][::2], rle[1:][::2])]\n",
    "    starts -= 1\n",
    "    ends = starts + lengths\n",
    "    img = np.zeros(shape[0] * shape[1], dtype=np.uint8)\n",
    "    for lo, hi in zip(starts, ends):\n",
    "        img[lo:hi] = 255\n",
    "    img = img.reshape(1, shape[0], shape[1])\n",
    "    img = img.T\n",
    "    return img"
   ]
  },
  {
   "cell_type": "code",
   "execution_count": 7,
   "metadata": {},
   "outputs": [
    {
     "data": {
      "image/png": "[encoded data removed]",
      "text/plain": [
       "<Figure size 1080x360 with 5 Axes>"
      ]
     },
     "metadata": {},
     "output_type": "display_data"
    }
   ],
   "source": [
    "n_images = 5\n",
    "fig, axarr = plt.subplots(1, n_images, figsize=(15, 5))\n",
    "for image in range(n_images):\n",
    "    axarr[image].imshow(image_utils.array_to_img(rle_decode(train_df.loc[image]['rle_mask'], (101, 101))))\n",
    "fig.tight_layout()"
   ]
  },
  {
   "cell_type": "code",
   "execution_count": 8,
   "metadata": {},
   "outputs": [],
   "source": [
    "def rle_encode(img):\n",
    "    '''\n",
    "    img: np.array: 1 - mask, 0 - background\n",
    "    Returns\n",
    "    -------\n",
    "    run-length string of pairs of (start, length)\n",
    "    '''\n",
    "    pixels = img.T.flatten()\n",
    "    pixels = np.concatenate([[0], pixels, [0]])\n",
    "    runs = np.where(pixels[1:] != pixels[:-1])[0] + 1\n",
    "    runs[1::2] -= runs[::2]\n",
    "    rle = ' '.join(str(x) for x in runs)\n",
    "    return rle if rle else float('nan')"
   ]
  },
  {
   "cell_type": "markdown",
   "metadata": {},
   "source": [
    "Compare with the whole training set masks"
   ]
  },
  {
   "cell_type": "code",
   "execution_count": 9,
   "metadata": {},
   "outputs": [],
   "source": [
    "# image_utils.img_to_array(image_utils.load_img(\"data/train/masks/a266a2a9df.png\", grayscale=True))"
   ]
  },
  {
   "cell_type": "code",
   "execution_count": 10,
   "metadata": {},
   "outputs": [],
   "source": [
    "train_df['rle_calculated'] = train_df.id.map(lambda x: rle_encode(image_utils.img_to_array(image_utils.load_img(\"data/train/masks/{}.png\".format(x), grayscale=True))))"
   ]
  },
  {
   "cell_type": "code",
   "execution_count": 11,
   "metadata": {},
   "outputs": [
    {
     "data": {
      "text/html": [
       "<div>\n",
       "<style scoped>\n",
       "    .dataframe tbody tr th:only-of-type {\n",
       "        vertical-align: middle;\n",
       "    }\n",
       "\n",
       "    .dataframe tbody tr th {\n",
       "        vertical-align: top;\n",
       "    }\n",
       "\n",
       "    .dataframe thead th {\n",
       "        text-align: right;\n",
       "    }\n",
       "</style>\n",
       "<table border=\"1\" class=\"dataframe\">\n",
       "  <thead>\n",
       "    <tr style=\"text-align: right;\">\n",
       "      <th></th>\n",
       "      <th>id</th>\n",
       "      <th>rle_mask</th>\n",
       "      <th>rle_calculated</th>\n",
       "    </tr>\n",
       "  </thead>\n",
       "  <tbody>\n",
       "    <tr>\n",
       "      <th>0</th>\n",
       "      <td>575d24d81d</td>\n",
       "      <td>NaN</td>\n",
       "      <td>NaN</td>\n",
       "    </tr>\n",
       "    <tr>\n",
       "      <th>1</th>\n",
       "      <td>a266a2a9df</td>\n",
       "      <td>5051 5151</td>\n",
       "      <td>5051 5151</td>\n",
       "    </tr>\n",
       "    <tr>\n",
       "      <th>2</th>\n",
       "      <td>75efad62c1</td>\n",
       "      <td>9 93 109 94 210 94 310 95 411 95 511 96 612 96...</td>\n",
       "      <td>9 93 109 94 210 94 310 95 411 95 511 96 612 96...</td>\n",
       "    </tr>\n",
       "    <tr>\n",
       "      <th>3</th>\n",
       "      <td>34e51dba6a</td>\n",
       "      <td>48 54 149 54 251 53 353 52 455 51 557 50 659 4...</td>\n",
       "      <td>48 54 149 54 251 53 353 52 455 51 557 50 659 4...</td>\n",
       "    </tr>\n",
       "    <tr>\n",
       "      <th>4</th>\n",
       "      <td>4875705fb0</td>\n",
       "      <td>1111 1 1212 1 1313 1 1414 1 1514 2 1615 2 1716...</td>\n",
       "      <td>1111 1 1212 1 1313 1 1414 1 1514 2 1615 2 1716...</td>\n",
       "    </tr>\n",
       "  </tbody>\n",
       "</table>\n",
       "</div>"
      ],
      "text/plain": [
       "           id                                           rle_mask  \\\n",
       "0  575d24d81d                                                NaN   \n",
       "1  a266a2a9df                                          5051 5151   \n",
       "2  75efad62c1  9 93 109 94 210 94 310 95 411 95 511 96 612 96...   \n",
       "3  34e51dba6a  48 54 149 54 251 53 353 52 455 51 557 50 659 4...   \n",
       "4  4875705fb0  1111 1 1212 1 1313 1 1414 1 1514 2 1615 2 1716...   \n",
       "\n",
       "                                      rle_calculated  \n",
       "0                                                NaN  \n",
       "1                                          5051 5151  \n",
       "2  9 93 109 94 210 94 310 95 411 95 511 96 612 96...  \n",
       "3  48 54 149 54 251 53 353 52 455 51 557 50 659 4...  \n",
       "4  1111 1 1212 1 1313 1 1414 1 1514 2 1615 2 1716...  "
      ]
     },
     "execution_count": 11,
     "metadata": {},
     "output_type": "execute_result"
    }
   ],
   "source": [
    "train_df.head()"
   ]
  },
  {
   "cell_type": "code",
   "execution_count": 12,
   "metadata": {},
   "outputs": [],
   "source": [
    "pd.testing.assert_series_equal(train_df.rle_mask, train_df.rle_calculated, check_names=False)"
   ]
  },
  {
   "cell_type": "markdown",
   "metadata": {},
   "source": [
    "Everything looks good, move this functions to the `utils.py`"
   ]
  },
  {
   "cell_type": "markdown",
   "metadata": {},
   "source": [
    "## Interseciton over Union (IoU) Metric\n",
    "\n",
    "The IoU\n",
    "\n",
    "From: https://www.pyimagesearch.com/2016/11/07/intersection-over-union-iou-for-object-detection/\n",
    "\n",
    "Metric = Intersection of Areas / Union of Areas"
   ]
  },
  {
   "cell_type": "code",
   "execution_count": 13,
   "metadata": {},
   "outputs": [],
   "source": [
    "import random"
   ]
  },
  {
   "cell_type": "code",
   "execution_count": 14,
   "metadata": {},
   "outputs": [],
   "source": [
    "def iou(y_true, y_pred):\n",
    "    component1 = y_true.astype(dtype=np.bool)\n",
    "    component2 = y_pred.astype(dtype=np.bool)\n",
    "\n",
    "    overlap = component1 * component2 # Logical AND\n",
    "    union = component1 + component2 # Logical OR\n",
    "\n",
    "    iou = overlap.sum() / float(union.sum())\n",
    "    return iou"
   ]
  },
  {
   "cell_type": "code",
   "execution_count": 15,
   "metadata": {},
   "outputs": [],
   "source": [
    "ones = np.ones((101, 101))"
   ]
  },
  {
   "cell_type": "code",
   "execution_count": 16,
   "metadata": {},
   "outputs": [],
   "source": [
    "triang_down = ones * np.tri(*ones.shape)"
   ]
  },
  {
   "cell_type": "code",
   "execution_count": 17,
   "metadata": {},
   "outputs": [
    {
     "name": "stdout",
     "output_type": "stream",
     "text": [
      "[0.01176355259288305, 0.08636408195274974, 0.061758651112636016, 0.276345456327811, 0.7176747377708068]\n"
     ]
    },
    {
     "data": {
      "image/png": "[encoded data removed]",
      "text/plain": [
       "<Figure size 1080x360 with 5 Axes>"
      ]
     },
     "metadata": {},
     "output_type": "display_data"
    }
   ],
   "source": [
    "n_images = 5\n",
    "ious = []\n",
    "fig, axarr = plt.subplots(1, n_images, figsize=(15, 5))\n",
    "for image in range(n_images):\n",
    "    n = random.randint(1, len(train_df))\n",
    "    arr = rle_decode(train_df.loc[n]['rle_mask'], (101, 101))\n",
    "    axarr[image].imshow(image_utils.array_to_img(arr))\n",
    "    ious.append(iou(ones, arr))\n",
    "fig.tight_layout()\n",
    "print(ious)"
   ]
  },
  {
   "cell_type": "code",
   "execution_count": 18,
   "metadata": {},
   "outputs": [
    {
     "name": "stdout",
     "output_type": "stream",
     "text": [
      "[0.05386628981327757, 0.0019265770640334878, 0.1505495850362595, 0.0, 0.16531818654291722]\n"
     ]
    },
    {
     "data": {
      "image/png": "[encoded data removed]",
      "text/plain": [
       "<Figure size 1080x360 with 5 Axes>"
      ]
     },
     "metadata": {},
     "output_type": "display_data"
    }
   ],
   "source": [
    "n_images = 5\n",
    "ious = []\n",
    "fig, axarr = plt.subplots(1, n_images, figsize=(15, 5))\n",
    "for image in range(n_images):\n",
    "    n = random.randint(1, len(train_df))\n",
    "    arr = rle_decode(train_df.loc[n]['rle_mask'], (101, 101))\n",
    "    axarr[image].imshow(image_utils.array_to_img(arr))\n",
    "    ious.append(iou(triang_down, arr))\n",
    "fig.tight_layout()\n",
    "print(ious)"
   ]
  },
  {
   "cell_type": "code",
   "execution_count": null,
   "metadata": {},
   "outputs": [],
   "source": []
  }
 ],
 "metadata": {
  "kernelspec": {
   "display_name": "Python 3",
   "language": "python",
   "name": "python3"
  },
  "language_info": {
   "codemirror_mode": {
    "name": "ipython",
    "version": 3
   },
   "file_extension": ".py",
   "mimetype": "text/x-python",
   "name": "python",
   "nbconvert_exporter": "python",
   "pygments_lexer": "ipython3",
   "version": "3.6.5"
  }
 },
 "nbformat": 4,
 "nbformat_minor": 2
}
