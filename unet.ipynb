{
 "cells": [
  {
   "cell_type": "code",
   "execution_count": 20,
   "metadata": {},
   "outputs": [],
   "source": [
    "import bcolz\n",
    "import numpy as np\n",
    "import tensorflow as tf\n",
    "from tensorflow.keras import backend as K"
   ]
  },
  {
   "cell_type": "code",
   "execution_count": 2,
   "metadata": {},
   "outputs": [],
   "source": [
    "def load_array(fname):\n",
    "    return bcolz.open(fname)[:]"
   ]
  },
  {
   "cell_type": "code",
   "execution_count": 3,
   "metadata": {},
   "outputs": [],
   "source": [
    "train_ids = load_array(\"data/train_ids.arr\")\n",
    "x_train = load_array(\"data/x_train.arr\")\n",
    "y_train = load_array(\"data/y_train.arr\")\n",
    "# test_ids = load_array(\"data/test_ids.arr\")\n",
    "# x_test = load_array(\"data/x_test.arr\")"
   ]
  },
  {
   "cell_type": "code",
   "execution_count": 13,
   "metadata": {},
   "outputs": [],
   "source": [
    "im_width = x_train.shape[1]\n",
    "im_height = x_train.shape[2]\n",
    "im_chan = x_train.shape[3]"
   ]
  },
  {
   "cell_type": "code",
   "execution_count": 14,
   "metadata": {},
   "outputs": [
    {
     "data": {
      "text/plain": [
       "((4000, 128, 128, 1), (4000, 128, 128, 1), (18000, 128, 128, 1), 128, 128, 1)"
      ]
     },
     "execution_count": 14,
     "metadata": {},
     "output_type": "execute_result"
    }
   ],
   "source": [
    "x_train.shape, y_train.shape, x_test.shape, im_width, im_height, im_chan"
   ]
  },
  {
   "cell_type": "markdown",
   "metadata": {},
   "source": [
    "We define the metric we are going to use to evaluate: mean average precision at different intersection over union (IoU) thresholds"
   ]
  },
  {
   "cell_type": "code",
   "execution_count": 21,
   "metadata": {},
   "outputs": [],
   "source": [
    "def mean_iou(y_true, y_pred):\n",
    "    prec = []\n",
    "    for t in np.arange(0.5, 1.0, 0.05):\n",
    "        y_pred_ = tf.to_int32(y_pred > t)\n",
    "        score, up_opt = tf.metrics.mean_iou(y_true, y_pred_, 2)\n",
    "        K.get_session().run(tf.local_variables_initializer())\n",
    "        with tf.control_dependencies([up_opt]):\n",
    "            score = tf.identity(score)\n",
    "        prec.append(score)\n",
    "    return K.mean(K.stack(prec), axis=0)"
   ]
  },
  {
   "cell_type": "markdown",
   "metadata": {},
   "source": [
    "Now we define the actual Unet model"
   ]
  },
  {
   "cell_type": "code",
   "execution_count": 12,
   "metadata": {},
   "outputs": [],
   "source": [
    "from tensorflow.keras.models import Model\n",
    "from tensorflow.keras.layers import Input\n",
    "from tensorflow.keras.layers import Lambda\n",
    "from tensorflow.keras.layers import Conv2D, Conv2DTranspose\n",
    "from tensorflow.keras.layers import MaxPooling2D\n",
    "from tensorflow.keras.layers import concatenate\n",
    "from tensorflow.keras.callbacks import EarlyStopping, ModelCheckpoint"
   ]
  },
  {
   "cell_type": "code",
   "execution_count": 15,
   "metadata": {},
   "outputs": [],
   "source": [
    "inputs = Input((im_height, im_width, im_chan))\n",
    "s = Lambda(lambda x: x / 255) (inputs)"
   ]
  },
  {
   "cell_type": "code",
   "execution_count": 16,
   "metadata": {},
   "outputs": [],
   "source": [
    "c1 = Conv2D(8, (3, 3), activation='relu', padding='same') (s)\n",
    "c1 = Conv2D(8, (3, 3), activation='relu', padding='same') (c1)\n",
    "p1 = MaxPooling2D((2, 2)) (c1)\n",
    "\n",
    "c2 = Conv2D(16, (3, 3), activation='relu', padding='same') (p1)\n",
    "c2 = Conv2D(16, (3, 3), activation='relu', padding='same') (c2)\n",
    "p2 = MaxPooling2D((2, 2)) (c2)\n",
    "\n",
    "c3 = Conv2D(32, (3, 3), activation='relu', padding='same') (p2)\n",
    "c3 = Conv2D(32, (3, 3), activation='relu', padding='same') (c3)\n",
    "p3 = MaxPooling2D((2, 2)) (c3)\n",
    "\n",
    "c4 = Conv2D(64, (3, 3), activation='relu', padding='same') (p3)\n",
    "c4 = Conv2D(64, (3, 3), activation='relu', padding='same') (c4)\n",
    "p4 = MaxPooling2D(pool_size=(2, 2)) (c4)\n",
    "\n",
    "c5 = Conv2D(128, (3, 3), activation='relu', padding='same') (p4)\n",
    "c5 = Conv2D(128, (3, 3), activation='relu', padding='same') (c5)\n",
    "\n",
    "u6 = Conv2DTranspose(64, (2, 2), strides=(2, 2), padding='same') (c5)\n",
    "u6 = concatenate([u6, c4])\n",
    "c6 = Conv2D(64, (3, 3), activation='relu', padding='same') (u6)\n",
    "c6 = Conv2D(64, (3, 3), activation='relu', padding='same') (c6)\n",
    "\n",
    "u7 = Conv2DTranspose(32, (2, 2), strides=(2, 2), padding='same') (c6)\n",
    "u7 = concatenate([u7, c3])\n",
    "c7 = Conv2D(32, (3, 3), activation='relu', padding='same') (u7)\n",
    "c7 = Conv2D(32, (3, 3), activation='relu', padding='same') (c7)\n",
    "\n",
    "u8 = Conv2DTranspose(16, (2, 2), strides=(2, 2), padding='same') (c7)\n",
    "u8 = concatenate([u8, c2])\n",
    "c8 = Conv2D(16, (3, 3), activation='relu', padding='same') (u8)\n",
    "c8 = Conv2D(16, (3, 3), activation='relu', padding='same') (c8)\n",
    "\n",
    "u9 = Conv2DTranspose(8, (2, 2), strides=(2, 2), padding='same') (c8)\n",
    "u9 = concatenate([u9, c1], axis=3)\n",
    "c9 = Conv2D(8, (3, 3), activation='relu', padding='same') (u9)\n",
    "c9 = Conv2D(8, (3, 3), activation='relu', padding='same') (c9)"
   ]
  },
  {
   "cell_type": "code",
   "execution_count": 17,
   "metadata": {},
   "outputs": [],
   "source": [
    "outputs = Conv2D(1, (1, 1), activation='sigmoid') (c9)"
   ]
  },
  {
   "cell_type": "code",
   "execution_count": 18,
   "metadata": {},
   "outputs": [],
   "source": [
    "model = Model(inputs=[inputs], outputs=[outputs])"
   ]
  },
  {
   "cell_type": "code",
   "execution_count": 22,
   "metadata": {},
   "outputs": [],
   "source": [
    "model.compile(optimizer='adam', loss='binary_crossentropy', metrics=[mean_iou])"
   ]
  },
  {
   "cell_type": "code",
   "execution_count": 23,
   "metadata": {},
   "outputs": [
    {
     "name": "stdout",
     "output_type": "stream",
     "text": [
      "__________________________________________________________________________________________________\n",
      "Layer (type)                    Output Shape         Param #     Connected to                     \n",
      "==================================================================================================\n",
      "input_1 (InputLayer)            (None, 128, 128, 1)  0                                            \n",
      "__________________________________________________________________________________________________\n",
      "lambda (Lambda)                 (None, 128, 128, 1)  0           input_1[0][0]                    \n",
      "__________________________________________________________________________________________________\n",
      "conv2d (Conv2D)                 (None, 128, 128, 8)  80          lambda[0][0]                     \n",
      "__________________________________________________________________________________________________\n",
      "conv2d_1 (Conv2D)               (None, 128, 128, 8)  584         conv2d[0][0]                     \n",
      "__________________________________________________________________________________________________\n",
      "max_pooling2d (MaxPooling2D)    (None, 64, 64, 8)    0           conv2d_1[0][0]                   \n",
      "__________________________________________________________________________________________________\n",
      "conv2d_2 (Conv2D)               (None, 64, 64, 16)   1168        max_pooling2d[0][0]              \n",
      "__________________________________________________________________________________________________\n",
      "conv2d_3 (Conv2D)               (None, 64, 64, 16)   2320        conv2d_2[0][0]                   \n",
      "__________________________________________________________________________________________________\n",
      "max_pooling2d_1 (MaxPooling2D)  (None, 32, 32, 16)   0           conv2d_3[0][0]                   \n",
      "__________________________________________________________________________________________________\n",
      "conv2d_4 (Conv2D)               (None, 32, 32, 32)   4640        max_pooling2d_1[0][0]            \n",
      "__________________________________________________________________________________________________\n",
      "conv2d_5 (Conv2D)               (None, 32, 32, 32)   9248        conv2d_4[0][0]                   \n",
      "__________________________________________________________________________________________________\n",
      "max_pooling2d_2 (MaxPooling2D)  (None, 16, 16, 32)   0           conv2d_5[0][0]                   \n",
      "__________________________________________________________________________________________________\n",
      "conv2d_6 (Conv2D)               (None, 16, 16, 64)   18496       max_pooling2d_2[0][0]            \n",
      "__________________________________________________________________________________________________\n",
      "conv2d_7 (Conv2D)               (None, 16, 16, 64)   36928       conv2d_6[0][0]                   \n",
      "__________________________________________________________________________________________________\n",
      "max_pooling2d_3 (MaxPooling2D)  (None, 8, 8, 64)     0           conv2d_7[0][0]                   \n",
      "__________________________________________________________________________________________________\n",
      "conv2d_8 (Conv2D)               (None, 8, 8, 128)    73856       max_pooling2d_3[0][0]            \n",
      "__________________________________________________________________________________________________\n",
      "conv2d_9 (Conv2D)               (None, 8, 8, 128)    147584      conv2d_8[0][0]                   \n",
      "__________________________________________________________________________________________________\n",
      "conv2d_transpose (Conv2DTranspo (None, 16, 16, 64)   32832       conv2d_9[0][0]                   \n",
      "__________________________________________________________________________________________________\n",
      "concatenate (Concatenate)       (None, 16, 16, 128)  0           conv2d_transpose[0][0]           \n",
      "                                                                 conv2d_7[0][0]                   \n",
      "__________________________________________________________________________________________________\n",
      "conv2d_10 (Conv2D)              (None, 16, 16, 64)   73792       concatenate[0][0]                \n",
      "__________________________________________________________________________________________________\n",
      "conv2d_11 (Conv2D)              (None, 16, 16, 64)   36928       conv2d_10[0][0]                  \n",
      "__________________________________________________________________________________________________\n",
      "conv2d_transpose_1 (Conv2DTrans (None, 32, 32, 32)   8224        conv2d_11[0][0]                  \n",
      "__________________________________________________________________________________________________\n",
      "concatenate_1 (Concatenate)     (None, 32, 32, 64)   0           conv2d_transpose_1[0][0]         \n",
      "                                                                 conv2d_5[0][0]                   \n",
      "__________________________________________________________________________________________________\n",
      "conv2d_12 (Conv2D)              (None, 32, 32, 32)   18464       concatenate_1[0][0]              \n",
      "__________________________________________________________________________________________________\n",
      "conv2d_13 (Conv2D)              (None, 32, 32, 32)   9248        conv2d_12[0][0]                  \n",
      "__________________________________________________________________________________________________\n",
      "conv2d_transpose_2 (Conv2DTrans (None, 64, 64, 16)   2064        conv2d_13[0][0]                  \n",
      "__________________________________________________________________________________________________\n",
      "concatenate_2 (Concatenate)     (None, 64, 64, 32)   0           conv2d_transpose_2[0][0]         \n",
      "                                                                 conv2d_3[0][0]                   \n",
      "__________________________________________________________________________________________________\n",
      "conv2d_14 (Conv2D)              (None, 64, 64, 16)   4624        concatenate_2[0][0]              \n",
      "__________________________________________________________________________________________________\n",
      "conv2d_15 (Conv2D)              (None, 64, 64, 16)   2320        conv2d_14[0][0]                  \n",
      "__________________________________________________________________________________________________\n",
      "conv2d_transpose_3 (Conv2DTrans (None, 128, 128, 8)  520         conv2d_15[0][0]                  \n",
      "__________________________________________________________________________________________________\n",
      "concatenate_3 (Concatenate)     (None, 128, 128, 16) 0           conv2d_transpose_3[0][0]         \n",
      "                                                                 conv2d_1[0][0]                   \n",
      "__________________________________________________________________________________________________\n",
      "conv2d_16 (Conv2D)              (None, 128, 128, 8)  1160        concatenate_3[0][0]              \n",
      "__________________________________________________________________________________________________\n",
      "conv2d_17 (Conv2D)              (None, 128, 128, 8)  584         conv2d_16[0][0]                  \n",
      "__________________________________________________________________________________________________\n",
      "conv2d_18 (Conv2D)              (None, 128, 128, 1)  9           conv2d_17[0][0]                  \n",
      "==================================================================================================\n",
      "Total params: 485,673\n",
      "Trainable params: 485,673\n",
      "Non-trainable params: 0\n",
      "__________________________________________________________________________________________________\n"
     ]
    }
   ],
   "source": [
    "model.summary()"
   ]
  },
  {
   "cell_type": "code",
   "execution_count": 25,
   "metadata": {},
   "outputs": [
    {
     "name": "stdout",
     "output_type": "stream",
     "text": [
      "Train on 3600 samples, validate on 400 samples\n",
      "Epoch 1/30\n",
      "3600/3600 [==============================] - 165s 46ms/step - loss: 0.5454 - mean_iou: 0.3783 - val_loss: 0.4739 - val_mean_iou: 0.3778\n",
      "\n",
      "Epoch 00001: val_loss improved from inf to 0.47394, saving model to model-tgs-salt-1.h5\n",
      "Epoch 2/30\n",
      "3600/3600 [==============================] - 179s 50ms/step - loss: 0.4661 - mean_iou: 0.3815 - val_loss: 0.3872 - val_mean_iou: 0.3936\n",
      "\n",
      "Epoch 00002: val_loss improved from 0.47394 to 0.38720, saving model to model-tgs-salt-1.h5\n",
      "Epoch 3/30\n",
      "3600/3600 [==============================] - 195s 54ms/step - loss: 0.5222 - mean_iou: 0.4005 - val_loss: 0.5307 - val_mean_iou: 0.3978\n",
      "\n",
      "Epoch 00003: val_loss did not improve from 0.38720\n",
      "Epoch 4/30\n",
      "3600/3600 [==============================] - 181s 50ms/step - loss: 0.4113 - mean_iou: 0.4074 - val_loss: 0.3659 - val_mean_iou: 0.4227\n",
      "\n",
      "Epoch 00004: val_loss improved from 0.38720 to 0.36594, saving model to model-tgs-salt-1.h5\n",
      "Epoch 5/30\n",
      "3600/3600 [==============================] - 180s 50ms/step - loss: 0.3576 - mean_iou: 0.4377 - val_loss: 0.3339 - val_mean_iou: 0.4516\n",
      "\n",
      "Epoch 00005: val_loss improved from 0.36594 to 0.33390, saving model to model-tgs-salt-1.h5\n",
      "Epoch 6/30\n",
      "3600/3600 [==============================] - 186s 52ms/step - loss: 0.3254 - mean_iou: 0.4647 - val_loss: 0.3078 - val_mean_iou: 0.4783\n",
      "\n",
      "Epoch 00006: val_loss improved from 0.33390 to 0.30779, saving model to model-tgs-salt-1.h5\n",
      "Epoch 7/30\n",
      "3600/3600 [==============================] - 194s 54ms/step - loss: 0.3092 - mean_iou: 0.4895 - val_loss: 0.3004 - val_mean_iou: 0.5010\n",
      "\n",
      "Epoch 00007: val_loss improved from 0.30779 to 0.30039, saving model to model-tgs-salt-1.h5\n",
      "Epoch 8/30\n",
      "3600/3600 [==============================] - 198s 55ms/step - loss: 0.3010 - mean_iou: 0.5116 - val_loss: 0.2994 - val_mean_iou: 0.5204\n",
      "\n",
      "Epoch 00008: val_loss improved from 0.30039 to 0.29945, saving model to model-tgs-salt-1.h5\n",
      "Epoch 9/30\n",
      "3600/3600 [==============================] - 194s 54ms/step - loss: 0.2870 - mean_iou: 0.5283 - val_loss: 0.3325 - val_mean_iou: 0.5368\n",
      "\n",
      "Epoch 00009: val_loss did not improve from 0.29945\n",
      "Epoch 10/30\n",
      "3600/3600 [==============================] - 180s 50ms/step - loss: 0.2755 - mean_iou: 0.5443 - val_loss: 0.2695 - val_mean_iou: 0.5521\n",
      "\n",
      "Epoch 00010: val_loss improved from 0.29945 to 0.26952, saving model to model-tgs-salt-1.h5\n",
      "Epoch 11/30\n",
      "3600/3600 [==============================] - 187s 52ms/step - loss: 0.2675 - mean_iou: 0.5592 - val_loss: 0.2690 - val_mean_iou: 0.5658\n",
      "\n",
      "Epoch 00011: val_loss improved from 0.26952 to 0.26899, saving model to model-tgs-salt-1.h5\n",
      "Epoch 12/30\n",
      "3600/3600 [==============================] - 200s 56ms/step - loss: 0.2539 - mean_iou: 0.5723 - val_loss: 0.2586 - val_mean_iou: 0.5788\n",
      "\n",
      "Epoch 00012: val_loss improved from 0.26899 to 0.25863, saving model to model-tgs-salt-1.h5\n",
      "Epoch 13/30\n",
      "3600/3600 [==============================] - 229s 64ms/step - loss: 0.2385 - mean_iou: 0.5849 - val_loss: 0.2383 - val_mean_iou: 0.5906\n",
      "\n",
      "Epoch 00013: val_loss improved from 0.25863 to 0.23832, saving model to model-tgs-salt-1.h5\n",
      "Epoch 14/30\n",
      "3600/3600 [==============================] - 231s 64ms/step - loss: 0.2304 - mean_iou: 0.5961 - val_loss: 0.2351 - val_mean_iou: 0.6015\n",
      "\n",
      "Epoch 00014: val_loss improved from 0.23832 to 0.23510, saving model to model-tgs-salt-1.h5\n",
      "Epoch 15/30\n",
      "3600/3600 [==============================] - 196s 54ms/step - loss: 0.2241 - mean_iou: 0.6066 - val_loss: 0.2439 - val_mean_iou: 0.6116\n",
      "\n",
      "Epoch 00015: val_loss did not improve from 0.23510\n",
      "Epoch 16/30\n",
      "3600/3600 [==============================] - 192s 53ms/step - loss: 0.2147 - mean_iou: 0.6160 - val_loss: 0.2186 - val_mean_iou: 0.6208\n",
      "\n",
      "Epoch 00016: val_loss improved from 0.23510 to 0.21861, saving model to model-tgs-salt-1.h5\n",
      "Epoch 17/30\n",
      "3600/3600 [==============================] - 179s 50ms/step - loss: 0.2125 - mean_iou: 0.6249 - val_loss: 0.2412 - val_mean_iou: 0.6289\n",
      "\n",
      "Epoch 00017: val_loss did not improve from 0.21861\n",
      "Epoch 18/30\n",
      "3600/3600 [==============================] - 184s 51ms/step - loss: 0.2025 - mean_iou: 0.6327 - val_loss: 0.2261 - val_mean_iou: 0.6367\n",
      "\n",
      "Epoch 00018: val_loss did not improve from 0.21861\n",
      "Epoch 19/30\n",
      "3600/3600 [==============================] - 193s 54ms/step - loss: 0.2063 - mean_iou: 0.6402 - val_loss: 0.2276 - val_mean_iou: 0.6436\n",
      "\n",
      "Epoch 00019: val_loss did not improve from 0.21861\n",
      "Epoch 20/30\n",
      "3600/3600 [==============================] - 223s 62ms/step - loss: 0.1868 - mean_iou: 0.6473 - val_loss: 0.1926 - val_mean_iou: 0.6508\n",
      "\n",
      "Epoch 00020: val_loss improved from 0.21861 to 0.19261, saving model to model-tgs-salt-1.h5\n",
      "Epoch 21/30\n",
      "3600/3600 [==============================] - 205s 57ms/step - loss: 0.1839 - mean_iou: 0.6542 - val_loss: 0.2355 - val_mean_iou: 0.6573\n",
      "\n",
      "Epoch 00021: val_loss did not improve from 0.19261\n",
      "Epoch 22/30\n",
      "3600/3600 [==============================] - 216s 60ms/step - loss: 0.1795 - mean_iou: 0.6601 - val_loss: 0.2211 - val_mean_iou: 0.6632\n",
      "\n",
      "Epoch 00022: val_loss did not improve from 0.19261\n",
      "Epoch 23/30\n",
      "3600/3600 [==============================] - 222s 62ms/step - loss: 0.1732 - mean_iou: 0.6661 - val_loss: 0.2026 - val_mean_iou: 0.6691\n",
      "\n",
      "Epoch 00023: val_loss did not improve from 0.19261\n",
      "Epoch 24/30\n",
      "3600/3600 [==============================] - 211s 58ms/step - loss: 0.1701 - mean_iou: 0.6718 - val_loss: 0.2086 - val_mean_iou: 0.6746\n",
      "\n",
      "Epoch 00024: val_loss did not improve from 0.19261\n",
      "Epoch 25/30\n",
      "3600/3600 [==============================] - 201s 56ms/step - loss: 0.1694 - mean_iou: 0.6773 - val_loss: 0.1847 - val_mean_iou: 0.6797\n",
      "\n",
      "Epoch 00025: val_loss improved from 0.19261 to 0.18469, saving model to model-tgs-salt-1.h5\n",
      "Epoch 26/30\n",
      "3600/3600 [==============================] - 203s 56ms/step - loss: 0.1570 - mean_iou: 0.6823 - val_loss: 0.1888 - val_mean_iou: 0.6848\n",
      "\n",
      "Epoch 00026: val_loss did not improve from 0.18469\n",
      "Epoch 27/30\n",
      "3600/3600 [==============================] - 190s 53ms/step - loss: 0.1539 - mean_iou: 0.6874 - val_loss: 0.1844 - val_mean_iou: 0.6898\n",
      "\n",
      "Epoch 00027: val_loss improved from 0.18469 to 0.18439, saving model to model-tgs-salt-1.h5\n",
      "Epoch 28/30\n",
      "3600/3600 [==============================] - 187s 52ms/step - loss: 0.1612 - mean_iou: 0.6917 - val_loss: 0.1957 - val_mean_iou: 0.6940\n",
      "\n",
      "Epoch 00028: val_loss did not improve from 0.18439\n",
      "Epoch 29/30\n",
      "3600/3600 [==============================] - 193s 54ms/step - loss: 0.1481 - mean_iou: 0.6963 - val_loss: 0.1899 - val_mean_iou: 0.6986\n",
      "\n",
      "Epoch 00029: val_loss did not improve from 0.18439\n",
      "Epoch 30/30\n",
      "3600/3600 [==============================] - 231s 64ms/step - loss: 0.1433 - mean_iou: 0.7008 - val_loss: 0.2064 - val_mean_iou: 0.7028\n",
      "\n",
      "Epoch 00030: val_loss did not improve from 0.18439\n"
     ]
    }
   ],
   "source": [
    "earlystopper = EarlyStopping(patience=5, verbose=1)\n",
    "checkpointer = ModelCheckpoint('models/unet-simple.h5', verbose=1, save_best_only=True)\n",
    "results = model.fit(x_train, y_train, validation_split=0.1, batch_size=8, epochs=30, callbacks=[earlystopper, checkpointer])"
   ]
  },
  {
   "cell_type": "markdown",
   "metadata": {},
   "source": [
    "## Check the predictions\n",
    "\n",
    "Let's check one prediction"
   ]
  },
  {
   "cell_type": "code",
   "execution_count": 31,
   "metadata": {},
   "outputs": [
    {
     "name": "stdout",
     "output_type": "stream",
     "text": [
      "4000/4000 [==============================] - 67s 17ms/step\n"
     ]
    }
   ],
   "source": [
    "pred_train = model.predict(x_train, verbose=1)"
   ]
  },
  {
   "cell_type": "code",
   "execution_count": 28,
   "metadata": {},
   "outputs": [
    {
     "data": {
      "text/plain": [
       "(4000, 128, 128, 1)"
      ]
     },
     "execution_count": 28,
     "metadata": {},
     "output_type": "execute_result"
    }
   ],
   "source": [
    "pred_train.shape"
   ]
  },
  {
   "cell_type": "code",
   "execution_count": 32,
   "metadata": {},
   "outputs": [],
   "source": [
    "import random\n",
    "from tensorflow.keras.preprocessing import image as image_utils"
   ]
  },
  {
   "cell_type": "code",
   "execution_count": 73,
   "metadata": {},
   "outputs": [],
   "source": [
    "n = random.randint(1, pred_train.shape[0])"
   ]
  },
  {
   "cell_type": "code",
   "execution_count": 74,
   "metadata": {},
   "outputs": [
    {
     "data": {
      "image/png": "[encoded data removed]",
      "text/plain": [
       "<PIL.Image.Image image mode=L size=128x128 at 0x142A78A90>"
      ]
     },
     "execution_count": 74,
     "metadata": {},
     "output_type": "execute_result"
    }
   ],
   "source": [
    "image_utils.array_to_img(y_train[n])"
   ]
  },
  {
   "cell_type": "code",
   "execution_count": 75,
   "metadata": {},
   "outputs": [
    {
     "data": {
      "image/png": "[encoded data removed]",
      "text/plain": [
       "<PIL.Image.Image image mode=L size=128x128 at 0x142A78AC8>"
      ]
     },
     "execution_count": 75,
     "metadata": {},
     "output_type": "execute_result"
    }
   ],
   "source": [
    "image_utils.array_to_img(pred_train[n])"
   ]
  },
  {
   "cell_type": "code",
   "execution_count": null,
   "metadata": {},
   "outputs": [],
   "source": []
  }
 ],
 "metadata": {
  "kernelspec": {
   "display_name": "Python 3",
   "language": "python",
   "name": "python3"
  },
  "language_info": {
   "codemirror_mode": {
    "name": "ipython",
    "version": 3
   },
   "file_extension": ".py",
   "mimetype": "text/x-python",
   "name": "python",
   "nbconvert_exporter": "python",
   "pygments_lexer": "ipython3",
   "version": "3.6.5"
  }
 },
 "nbformat": 4,
 "nbformat_minor": 2
}
