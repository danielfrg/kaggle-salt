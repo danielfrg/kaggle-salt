{
 "cells": [
  {
   "cell_type": "code",
   "execution_count": 1,
   "metadata": {},
   "outputs": [],
   "source": [
    "!mkdir -vp data"
   ]
  },
  {
   "cell_type": "code",
   "execution_count": 2,
   "metadata": {},
   "outputs": [
    {
     "name": "stdout",
     "output_type": "stream",
     "text": [
      "downloading https://www.kaggle.com/c/tgs-salt-identification-challenge/download/depths.csv\n",
      "\n",
      "depths.csv 100% |###################################| Time: 0:00:00 792.9 KiB/s\n",
      "\n",
      "downloading https://www.kaggle.com/c/tgs-salt-identification-challenge/download/sample_submission.csv\n",
      "\n",
      "sample_submission.csv 100% |########################| Time: 0:00:01 138.3 KiB/s\n",
      "\n",
      "downloading https://www.kaggle.com/c/tgs-salt-identification-challenge/download/train.csv\n",
      "\n",
      "train.csv 100% |####################################| Time: 0:00:00   2.9 MiB/s\n",
      "\n",
      "downloading https://www.kaggle.com/c/tgs-salt-identification-challenge/download/test.zip\n",
      "\n",
      "test.zip 100% |#####################################| Time: 0:00:08  18.7 MiB/s\n",
      "\n",
      "downloading https://www.kaggle.com/c/tgs-salt-identification-challenge/download/train.zip\n",
      "\n",
      "train.zip 100% |####################################| Time: 0:00:02  16.4 MiB/s\n",
      "\n"
     ]
    }
   ],
   "source": [
    "!cd data && kg download -u $KAGGLE_USERNAME -p $KAGGLE_PASSWORD -c tgs-salt-identification-challenge"
   ]
  },
  {
   "cell_type": "code",
   "execution_count": 3,
   "metadata": {},
   "outputs": [],
   "source": [
    "!cd data && unzip -q train.zip -d train"
   ]
  },
  {
   "cell_type": "code",
   "execution_count": 4,
   "metadata": {},
   "outputs": [],
   "source": [
    "!cd data && unzip -q test.zip -d test"
   ]
  },
  {
   "cell_type": "code",
   "execution_count": null,
   "metadata": {},
   "outputs": [],
   "source": []
  }
 ],
 "metadata": {
  "kernelspec": {
   "display_name": "Python 3",
   "language": "python",
   "name": "python3"
  },
  "language_info": {
   "codemirror_mode": {
    "name": "ipython",
    "version": 3
   },
   "file_extension": ".py",
   "mimetype": "text/x-python",
   "name": "python",
   "nbconvert_exporter": "python",
   "pygments_lexer": "ipython3",
   "version": "3.6.5"
  }
 },
 "nbformat": 4,
 "nbformat_minor": 2
}
