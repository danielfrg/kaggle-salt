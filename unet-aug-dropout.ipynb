{
 "cells": [
  {
   "cell_type": "code",
   "execution_count": 1,
   "metadata": {},
   "outputs": [],
   "source": [
    "%load_ext autoreload\n",
    "%autoreload 2"
   ]
  },
  {
   "cell_type": "code",
   "execution_count": 3,
   "metadata": {},
   "outputs": [
    {
     "data": {
      "text/plain": [
       "[name: \"/device:CPU:0\"\n",
       " device_type: \"CPU\"\n",
       " memory_limit: 268435456\n",
       " locality {\n",
       " }\n",
       " incarnation: 11834390173390457940, name: \"/device:GPU:0\"\n",
       " device_type: \"GPU\"\n",
       " memory_limit: 11285538407\n",
       " locality {\n",
       "   bus_id: 1\n",
       "   links {\n",
       "   }\n",
       " }\n",
       " incarnation: 5261057869765223980\n",
       " physical_device_desc: \"device: 0, name: Tesla K80, pci bus id: 0000:00:1e.0, compute capability: 3.7\"]"
      ]
     },
     "execution_count": 3,
     "metadata": {},
     "output_type": "execute_result"
    }
   ],
   "source": [
    "from tensorflow.python.client import device_lib\n",
    "device_lib.list_local_devices()"
   ]
  },
  {
   "cell_type": "code",
   "execution_count": 2,
   "metadata": {},
   "outputs": [
    {
     "name": "stderr",
     "output_type": "stream",
     "text": [
      "/home/ubuntu/.local/share/virtualenvs/kaggle-salt-WGcE8zWi/lib/python3.6/importlib/_bootstrap.py:219: RuntimeWarning: numpy.dtype size changed, may indicate binary incompatibility. Expected 96, got 88\n",
      "  return f(*args, **kwds)\n",
      "/home/ubuntu/.local/share/virtualenvs/kaggle-salt-WGcE8zWi/lib/python3.6/importlib/_bootstrap.py:219: RuntimeWarning: numpy.dtype size changed, may indicate binary incompatibility. Expected 96, got 88\n",
      "  return f(*args, **kwds)\n"
     ]
    }
   ],
   "source": [
    "from utils import *\n",
    "\n",
    "import numpy as np\n",
    "import tensorflow as tf\n",
    "from tensorflow.keras import backend as K"
   ]
  },
  {
   "cell_type": "code",
   "execution_count": 4,
   "metadata": {},
   "outputs": [],
   "source": [
    "train_ids = load_array(\"data/train_ids.arr\")\n",
    "x_train = load_array(\"data/x_train.arr\")\n",
    "y_train = load_array(\"data/y_train.arr\")\n",
    "# test_ids = load_array(\"data/test_ids.arr\")\n",
    "# x_test = load_array(\"data/x_test.arr\")"
   ]
  },
  {
   "cell_type": "code",
   "execution_count": 5,
   "metadata": {},
   "outputs": [],
   "source": [
    "im_width = x_train.shape[1]\n",
    "im_height = x_train.shape[2]\n",
    "im_chan = x_train.shape[3]"
   ]
  },
  {
   "cell_type": "code",
   "execution_count": 6,
   "metadata": {},
   "outputs": [
    {
     "data": {
      "text/plain": [
       "((4000, 128, 128, 1), (4000, 128, 128, 1), 128, 128, 1)"
      ]
     },
     "execution_count": 6,
     "metadata": {},
     "output_type": "execute_result"
    }
   ],
   "source": [
    "x_train.shape, y_train.shape, im_width, im_height, im_chan"
   ]
  },
  {
   "cell_type": "markdown",
   "metadata": {},
   "source": [
    "We define the metric we are going to use to evaluate: mean average precision at different intersection over union (IoU) thresholds"
   ]
  },
  {
   "cell_type": "code",
   "execution_count": 7,
   "metadata": {},
   "outputs": [],
   "source": [
    "def mean_iou(y_true, y_pred):\n",
    "    prec = []\n",
    "    for t in np.arange(0.5, 1.0, 0.05):\n",
    "        y_pred_ = tf.to_int32(y_pred > t)\n",
    "        score, up_opt = tf.metrics.mean_iou(y_true, y_pred_, 2)\n",
    "        K.get_session().run(tf.local_variables_initializer())\n",
    "        with tf.control_dependencies([up_opt]):\n",
    "            score = tf.identity(score)\n",
    "        prec.append(score)\n",
    "    return K.mean(K.stack(prec), axis=0)"
   ]
  },
  {
   "cell_type": "markdown",
   "metadata": {},
   "source": [
    "Now we define the actual Unet model"
   ]
  },
  {
   "cell_type": "code",
   "execution_count": 8,
   "metadata": {},
   "outputs": [],
   "source": [
    "from tensorflow.keras.models import Model\n",
    "from tensorflow.keras.layers import Input\n",
    "from tensorflow.keras.layers import Lambda\n",
    "from tensorflow.keras.layers import Conv2D, Conv2DTranspose\n",
    "from tensorflow.keras.layers import MaxPooling2D\n",
    "from tensorflow.keras.layers import concatenate\n",
    "from tensorflow.keras.callbacks import EarlyStopping, ModelCheckpoint"
   ]
  },
  {
   "cell_type": "code",
   "execution_count": 9,
   "metadata": {},
   "outputs": [],
   "source": [
    "inputs = Input((im_height, im_width, im_chan))\n",
    "s = Lambda(lambda x: x / 255) (inputs)"
   ]
  },
  {
   "cell_type": "code",
   "execution_count": 10,
   "metadata": {},
   "outputs": [],
   "source": [
    "c1 = Conv2D(8, (3, 3), activation='relu', padding='same') (s)\n",
    "c1 = Conv2D(8, (3, 3), activation='relu', padding='same') (c1)\n",
    "p1 = MaxPooling2D((2, 2)) (c1)\n",
    "\n",
    "c2 = Conv2D(16, (3, 3), activation='relu', padding='same') (p1)\n",
    "c2 = Conv2D(16, (3, 3), activation='relu', padding='same') (c2)\n",
    "p2 = MaxPooling2D((2, 2)) (c2)\n",
    "\n",
    "c3 = Conv2D(32, (3, 3), activation='relu', padding='same') (p2)\n",
    "c3 = Conv2D(32, (3, 3), activation='relu', padding='same') (c3)\n",
    "p3 = MaxPooling2D((2, 2)) (c3)\n",
    "\n",
    "c4 = Conv2D(64, (3, 3), activation='relu', padding='same') (p3)\n",
    "c4 = Conv2D(64, (3, 3), activation='relu', padding='same') (c4)\n",
    "p4 = MaxPooling2D(pool_size=(2, 2)) (c4)\n",
    "\n",
    "c5 = Conv2D(128, (3, 3), activation='relu', padding='same') (p4)\n",
    "c5 = Conv2D(128, (3, 3), activation='relu', padding='same') (c5)\n",
    "\n",
    "u6 = Conv2DTranspose(64, (2, 2), strides=(2, 2), padding='same') (c5)\n",
    "u6 = concatenate([u6, c4])\n",
    "c6 = Conv2D(64, (3, 3), activation='relu', padding='same') (u6)\n",
    "c6 = Conv2D(64, (3, 3), activation='relu', padding='same') (c6)\n",
    "\n",
    "u7 = Conv2DTranspose(32, (2, 2), strides=(2, 2), padding='same') (c6)\n",
    "u7 = concatenate([u7, c3])\n",
    "c7 = Conv2D(32, (3, 3), activation='relu', padding='same') (u7)\n",
    "c7 = Conv2D(32, (3, 3), activation='relu', padding='same') (c7)\n",
    "\n",
    "u8 = Conv2DTranspose(16, (2, 2), strides=(2, 2), padding='same') (c7)\n",
    "u8 = concatenate([u8, c2])\n",
    "c8 = Conv2D(16, (3, 3), activation='relu', padding='same') (u8)\n",
    "c8 = Conv2D(16, (3, 3), activation='relu', padding='same') (c8)\n",
    "\n",
    "u9 = Conv2DTranspose(8, (2, 2), strides=(2, 2), padding='same') (c8)\n",
    "u9 = concatenate([u9, c1], axis=3)\n",
    "c9 = Conv2D(8, (3, 3), activation='relu', padding='same') (u9)\n",
    "c9 = Conv2D(8, (3, 3), activation='relu', padding='same') (c9)"
   ]
  },
  {
   "cell_type": "code",
   "execution_count": 11,
   "metadata": {},
   "outputs": [],
   "source": [
    "outputs = Conv2D(1, (1, 1), activation='sigmoid') (c9)"
   ]
  },
  {
   "cell_type": "code",
   "execution_count": 12,
   "metadata": {},
   "outputs": [],
   "source": [
    "model = Model(inputs=[inputs], outputs=[outputs])"
   ]
  },
  {
   "cell_type": "code",
   "execution_count": 13,
   "metadata": {},
   "outputs": [],
   "source": [
    "model.compile(optimizer='adam', loss='binary_crossentropy', metrics=[mean_iou])"
   ]
  },
  {
   "cell_type": "code",
   "execution_count": 14,
   "metadata": {},
   "outputs": [
    {
     "name": "stdout",
     "output_type": "stream",
     "text": [
      "__________________________________________________________________________________________________\n",
      "Layer (type)                    Output Shape         Param #     Connected to                     \n",
      "==================================================================================================\n",
      "input_1 (InputLayer)            (None, 128, 128, 1)  0                                            \n",
      "__________________________________________________________________________________________________\n",
      "lambda (Lambda)                 (None, 128, 128, 1)  0           input_1[0][0]                    \n",
      "__________________________________________________________________________________________________\n",
      "conv2d (Conv2D)                 (None, 128, 128, 8)  80          lambda[0][0]                     \n",
      "__________________________________________________________________________________________________\n",
      "conv2d_1 (Conv2D)               (None, 128, 128, 8)  584         conv2d[0][0]                     \n",
      "__________________________________________________________________________________________________\n",
      "max_pooling2d (MaxPooling2D)    (None, 64, 64, 8)    0           conv2d_1[0][0]                   \n",
      "__________________________________________________________________________________________________\n",
      "conv2d_2 (Conv2D)               (None, 64, 64, 16)   1168        max_pooling2d[0][0]              \n",
      "__________________________________________________________________________________________________\n",
      "conv2d_3 (Conv2D)               (None, 64, 64, 16)   2320        conv2d_2[0][0]                   \n",
      "__________________________________________________________________________________________________\n",
      "max_pooling2d_1 (MaxPooling2D)  (None, 32, 32, 16)   0           conv2d_3[0][0]                   \n",
      "__________________________________________________________________________________________________\n",
      "conv2d_4 (Conv2D)               (None, 32, 32, 32)   4640        max_pooling2d_1[0][0]            \n",
      "__________________________________________________________________________________________________\n",
      "conv2d_5 (Conv2D)               (None, 32, 32, 32)   9248        conv2d_4[0][0]                   \n",
      "__________________________________________________________________________________________________\n",
      "max_pooling2d_2 (MaxPooling2D)  (None, 16, 16, 32)   0           conv2d_5[0][0]                   \n",
      "__________________________________________________________________________________________________\n",
      "conv2d_6 (Conv2D)               (None, 16, 16, 64)   18496       max_pooling2d_2[0][0]            \n",
      "__________________________________________________________________________________________________\n",
      "conv2d_7 (Conv2D)               (None, 16, 16, 64)   36928       conv2d_6[0][0]                   \n",
      "__________________________________________________________________________________________________\n",
      "max_pooling2d_3 (MaxPooling2D)  (None, 8, 8, 64)     0           conv2d_7[0][0]                   \n",
      "__________________________________________________________________________________________________\n",
      "conv2d_8 (Conv2D)               (None, 8, 8, 128)    73856       max_pooling2d_3[0][0]            \n",
      "__________________________________________________________________________________________________\n",
      "conv2d_9 (Conv2D)               (None, 8, 8, 128)    147584      conv2d_8[0][0]                   \n",
      "__________________________________________________________________________________________________\n",
      "conv2d_transpose (Conv2DTranspo (None, 16, 16, 64)   32832       conv2d_9[0][0]                   \n",
      "__________________________________________________________________________________________________\n",
      "concatenate (Concatenate)       (None, 16, 16, 128)  0           conv2d_transpose[0][0]           \n",
      "                                                                 conv2d_7[0][0]                   \n",
      "__________________________________________________________________________________________________\n",
      "conv2d_10 (Conv2D)              (None, 16, 16, 64)   73792       concatenate[0][0]                \n",
      "__________________________________________________________________________________________________\n",
      "conv2d_11 (Conv2D)              (None, 16, 16, 64)   36928       conv2d_10[0][0]                  \n",
      "__________________________________________________________________________________________________\n",
      "conv2d_transpose_1 (Conv2DTrans (None, 32, 32, 32)   8224        conv2d_11[0][0]                  \n",
      "__________________________________________________________________________________________________\n",
      "concatenate_1 (Concatenate)     (None, 32, 32, 64)   0           conv2d_transpose_1[0][0]         \n",
      "                                                                 conv2d_5[0][0]                   \n",
      "__________________________________________________________________________________________________\n",
      "conv2d_12 (Conv2D)              (None, 32, 32, 32)   18464       concatenate_1[0][0]              \n",
      "__________________________________________________________________________________________________\n",
      "conv2d_13 (Conv2D)              (None, 32, 32, 32)   9248        conv2d_12[0][0]                  \n",
      "__________________________________________________________________________________________________\n",
      "conv2d_transpose_2 (Conv2DTrans (None, 64, 64, 16)   2064        conv2d_13[0][0]                  \n",
      "__________________________________________________________________________________________________\n",
      "concatenate_2 (Concatenate)     (None, 64, 64, 32)   0           conv2d_transpose_2[0][0]         \n",
      "                                                                 conv2d_3[0][0]                   \n",
      "__________________________________________________________________________________________________\n",
      "conv2d_14 (Conv2D)              (None, 64, 64, 16)   4624        concatenate_2[0][0]              \n",
      "__________________________________________________________________________________________________\n",
      "conv2d_15 (Conv2D)              (None, 64, 64, 16)   2320        conv2d_14[0][0]                  \n",
      "__________________________________________________________________________________________________\n",
      "conv2d_transpose_3 (Conv2DTrans (None, 128, 128, 8)  520         conv2d_15[0][0]                  \n",
      "__________________________________________________________________________________________________\n",
      "concatenate_3 (Concatenate)     (None, 128, 128, 16) 0           conv2d_transpose_3[0][0]         \n",
      "                                                                 conv2d_1[0][0]                   \n",
      "__________________________________________________________________________________________________\n",
      "conv2d_16 (Conv2D)              (None, 128, 128, 8)  1160        concatenate_3[0][0]              \n",
      "__________________________________________________________________________________________________\n",
      "conv2d_17 (Conv2D)              (None, 128, 128, 8)  584         conv2d_16[0][0]                  \n",
      "__________________________________________________________________________________________________\n",
      "conv2d_18 (Conv2D)              (None, 128, 128, 1)  9           conv2d_17[0][0]                  \n",
      "==================================================================================================\n",
      "Total params: 485,673\n",
      "Trainable params: 485,673\n",
      "Non-trainable params: 0\n",
      "__________________________________________________________________________________________________\n"
     ]
    }
   ],
   "source": [
    "model.summary()"
   ]
  },
  {
   "cell_type": "code",
   "execution_count": 16,
   "metadata": {},
   "outputs": [
    {
     "name": "stdout",
     "output_type": "stream",
     "text": [
      "Train on 3600 samples, validate on 400 samples\n",
      "Epoch 1/30\n",
      "3600/3600 [==============================] - 20s 5ms/step - loss: 0.4946 - mean_iou: 0.3776 - val_loss: 0.4326 - val_mean_iou: 0.3780\n",
      "\n",
      "Epoch 00001: val_loss improved from inf to 0.43260, saving model to models/unet-simple.h5\n",
      "Epoch 2/30\n",
      "3600/3600 [==============================] - 19s 5ms/step - loss: 0.4114 - mean_iou: 0.3840 - val_loss: 0.3251 - val_mean_iou: 0.4034\n",
      "\n",
      "Epoch 00002: val_loss improved from 0.43260 to 0.32511, saving model to models/unet-simple.h5\n",
      "Epoch 3/30\n",
      "3600/3600 [==============================] - 19s 5ms/step - loss: 0.3373 - mean_iou: 0.4294 - val_loss: 0.3008 - val_mean_iou: 0.4527\n",
      "\n",
      "Epoch 00003: val_loss improved from 0.32511 to 0.30085, saving model to models/unet-simple.h5\n",
      "Epoch 4/30\n",
      "3600/3600 [==============================] - 19s 5ms/step - loss: 0.3274 - mean_iou: 0.4707 - val_loss: 0.2780 - val_mean_iou: 0.4889\n",
      "\n",
      "Epoch 00004: val_loss improved from 0.30085 to 0.27804, saving model to models/unet-simple.h5\n",
      "Epoch 5/30\n",
      "3600/3600 [==============================] - 19s 5ms/step - loss: 0.2932 - mean_iou: 0.5075 - val_loss: 0.4512 - val_mean_iou: 0.5205\n",
      "\n",
      "Epoch 00005: val_loss did not improve from 0.27804\n",
      "Epoch 6/30\n",
      "3600/3600 [==============================] - 19s 5ms/step - loss: 0.2799 - mean_iou: 0.5292 - val_loss: 0.2433 - val_mean_iou: 0.5417\n",
      "\n",
      "Epoch 00006: val_loss improved from 0.27804 to 0.24334, saving model to models/unet-simple.h5\n",
      "Epoch 7/30\n",
      "3600/3600 [==============================] - 19s 5ms/step - loss: 0.2633 - mean_iou: 0.5528 - val_loss: 0.2486 - val_mean_iou: 0.5627\n",
      "\n",
      "Epoch 00007: val_loss did not improve from 0.24334\n",
      "Epoch 8/30\n",
      "3600/3600 [==============================] - 19s 5ms/step - loss: 0.2470 - mean_iou: 0.5726 - val_loss: 0.2746 - val_mean_iou: 0.5817\n",
      "\n",
      "Epoch 00008: val_loss did not improve from 0.24334\n",
      "Epoch 9/30\n",
      "3600/3600 [==============================] - 19s 5ms/step - loss: 0.2421 - mean_iou: 0.5892 - val_loss: 0.2247 - val_mean_iou: 0.5969\n",
      "\n",
      "Epoch 00009: val_loss improved from 0.24334 to 0.22465, saving model to models/unet-simple.h5\n",
      "Epoch 10/30\n",
      "3600/3600 [==============================] - 19s 5ms/step - loss: 0.2209 - mean_iou: 0.6043 - val_loss: 0.2237 - val_mean_iou: 0.6117\n",
      "\n",
      "Epoch 00010: val_loss improved from 0.22465 to 0.22366, saving model to models/unet-simple.h5\n",
      "Epoch 11/30\n",
      "3600/3600 [==============================] - 19s 5ms/step - loss: 0.2217 - mean_iou: 0.6180 - val_loss: 0.2379 - val_mean_iou: 0.6235\n",
      "\n",
      "Epoch 00011: val_loss did not improve from 0.22366\n",
      "Epoch 12/30\n",
      "3600/3600 [==============================] - 20s 5ms/step - loss: 0.2038 - mean_iou: 0.6292 - val_loss: 0.2126 - val_mean_iou: 0.6350\n",
      "\n",
      "Epoch 00012: val_loss improved from 0.22366 to 0.21259, saving model to models/unet-simple.h5\n",
      "Epoch 13/30\n",
      "3600/3600 [==============================] - 20s 5ms/step - loss: 0.2082 - mean_iou: 0.6406 - val_loss: 0.2307 - val_mean_iou: 0.6444\n",
      "\n",
      "Epoch 00013: val_loss did not improve from 0.21259\n",
      "Epoch 14/30\n",
      "3600/3600 [==============================] - 19s 5ms/step - loss: 0.1902 - mean_iou: 0.6486 - val_loss: 0.2035 - val_mean_iou: 0.6529\n",
      "\n",
      "Epoch 00014: val_loss improved from 0.21259 to 0.20348, saving model to models/unet-simple.h5\n",
      "Epoch 15/30\n",
      "3600/3600 [==============================] - 19s 5ms/step - loss: 0.1867 - mean_iou: 0.6574 - val_loss: 0.2059 - val_mean_iou: 0.6612\n",
      "\n",
      "Epoch 00015: val_loss did not improve from 0.20348\n",
      "Epoch 16/30\n",
      "3600/3600 [==============================] - 19s 5ms/step - loss: 0.1777 - mean_iou: 0.6654 - val_loss: 0.1951 - val_mean_iou: 0.6691\n",
      "\n",
      "Epoch 00016: val_loss improved from 0.20348 to 0.19506, saving model to models/unet-simple.h5\n",
      "Epoch 17/30\n",
      "3600/3600 [==============================] - 19s 5ms/step - loss: 0.1747 - mean_iou: 0.6728 - val_loss: 0.2101 - val_mean_iou: 0.6760\n",
      "\n",
      "Epoch 00017: val_loss did not improve from 0.19506\n",
      "Epoch 18/30\n",
      "3600/3600 [==============================] - 19s 5ms/step - loss: 0.1762 - mean_iou: 0.6793 - val_loss: 0.2440 - val_mean_iou: 0.6823\n",
      "\n",
      "Epoch 00018: val_loss did not improve from 0.19506\n",
      "Epoch 19/30\n",
      "3600/3600 [==============================] - 20s 5ms/step - loss: 0.1710 - mean_iou: 0.6854 - val_loss: 0.2068 - val_mean_iou: 0.6883\n",
      "\n",
      "Epoch 00019: val_loss did not improve from 0.19506\n",
      "Epoch 20/30\n",
      "3600/3600 [==============================] - 19s 5ms/step - loss: 0.1552 - mean_iou: 0.6915 - val_loss: 0.2022 - val_mean_iou: 0.6946\n",
      "\n",
      "Epoch 00020: val_loss did not improve from 0.19506\n",
      "Epoch 21/30\n",
      "3600/3600 [==============================] - 20s 5ms/step - loss: 0.1509 - mean_iou: 0.6975 - val_loss: 0.1939 - val_mean_iou: 0.7002\n",
      "\n",
      "Epoch 00021: val_loss improved from 0.19506 to 0.19392, saving model to models/unet-simple.h5\n",
      "Epoch 22/30\n",
      "3600/3600 [==============================] - 20s 5ms/step - loss: 0.1505 - mean_iou: 0.7028 - val_loss: 0.2212 - val_mean_iou: 0.7054\n",
      "\n",
      "Epoch 00022: val_loss did not improve from 0.19392\n",
      "Epoch 23/30\n",
      "3600/3600 [==============================] - 20s 5ms/step - loss: 0.1434 - mean_iou: 0.7078 - val_loss: 0.2063 - val_mean_iou: 0.7103\n",
      "\n",
      "Epoch 00023: val_loss did not improve from 0.19392\n",
      "Epoch 24/30\n",
      "3600/3600 [==============================] - 20s 5ms/step - loss: 0.1399 - mean_iou: 0.7127 - val_loss: 0.1807 - val_mean_iou: 0.7151\n",
      "\n",
      "Epoch 00024: val_loss improved from 0.19392 to 0.18074, saving model to models/unet-simple.h5\n",
      "Epoch 25/30\n",
      "3600/3600 [==============================] - 20s 5ms/step - loss: 0.1335 - mean_iou: 0.7174 - val_loss: 0.1856 - val_mean_iou: 0.7197\n",
      "\n",
      "Epoch 00025: val_loss did not improve from 0.18074\n",
      "Epoch 26/30\n",
      "3600/3600 [==============================] - 20s 5ms/step - loss: 0.1364 - mean_iou: 0.7219 - val_loss: 0.1962 - val_mean_iou: 0.7241\n",
      "\n",
      "Epoch 00026: val_loss did not improve from 0.18074\n",
      "Epoch 27/30\n",
      "3600/3600 [==============================] - 20s 5ms/step - loss: 0.1204 - mean_iou: 0.7264 - val_loss: 0.2095 - val_mean_iou: 0.7286\n",
      "\n",
      "Epoch 00027: val_loss did not improve from 0.18074\n",
      "Epoch 28/30\n",
      "3600/3600 [==============================] - 20s 5ms/step - loss: 0.1270 - mean_iou: 0.7305 - val_loss: 0.1980 - val_mean_iou: 0.7326\n",
      "\n",
      "Epoch 00028: val_loss did not improve from 0.18074\n",
      "Epoch 29/30\n",
      "3600/3600 [==============================] - 19s 5ms/step - loss: 0.1160 - mean_iou: 0.7347 - val_loss: 0.2080 - val_mean_iou: 0.7367\n",
      "\n",
      "Epoch 00029: val_loss did not improve from 0.18074\n",
      "Epoch 00029: early stopping\n"
     ]
    }
   ],
   "source": [
    "earlystopper = EarlyStopping(patience=5, verbose=1)\n",
    "checkpointer = ModelCheckpoint('models/unet-simple.h5', verbose=1, save_best_only=True)\n",
    "results = model.fit(x_train, y_train, validation_split=0.1, batch_size=8, epochs=30, callbacks=[earlystopper, checkpointer])"
   ]
  },
  {
   "cell_type": "markdown",
   "metadata": {},
   "source": [
    "## Check the predictions\n",
    "\n",
    "Let's check one prediction"
   ]
  },
  {
   "cell_type": "code",
   "execution_count": 17,
   "metadata": {},
   "outputs": [
    {
     "name": "stdout",
     "output_type": "stream",
     "text": [
      "4000/4000 [==============================] - 4s 981us/step\n"
     ]
    }
   ],
   "source": [
    "pred_train = model.predict(x_train, verbose=1)"
   ]
  },
  {
   "cell_type": "code",
   "execution_count": 18,
   "metadata": {},
   "outputs": [
    {
     "data": {
      "text/plain": [
       "(4000, 128, 128, 1)"
      ]
     },
     "execution_count": 18,
     "metadata": {},
     "output_type": "execute_result"
    }
   ],
   "source": [
    "pred_train.shape"
   ]
  },
  {
   "cell_type": "code",
   "execution_count": 19,
   "metadata": {},
   "outputs": [],
   "source": [
    "import random\n",
    "from tensorflow.keras.preprocessing import image as image_utils"
   ]
  },
  {
   "cell_type": "code",
   "execution_count": 20,
   "metadata": {},
   "outputs": [],
   "source": [
    "n = random.randint(1, pred_train.shape[0])"
   ]
  },
  {
   "cell_type": "code",
   "execution_count": 21,
   "metadata": {},
   "outputs": [
    {
     "data": {
      "image/png": "[encoded data removed]",
      "text/plain": [
       "<PIL.Image.Image image mode=L size=128x128 at 0x7F2C1AFA2390>"
      ]
     },
     "execution_count": 21,
     "metadata": {},
     "output_type": "execute_result"
    }
   ],
   "source": [
    "image_utils.array_to_img(y_train[n])"
   ]
  },
  {
   "cell_type": "code",
   "execution_count": 22,
   "metadata": {},
   "outputs": [
    {
     "data": {
      "image/png": "[encoded data removed]",
      "text/plain": [
       "<PIL.Image.Image image mode=L size=128x128 at 0x7F2C1AEA9B38>"
      ]
     },
     "execution_count": 22,
     "metadata": {},
     "output_type": "execute_result"
    }
   ],
   "source": [
    "image_utils.array_to_img(pred_train[n])"
   ]
  },
  {
   "cell_type": "code",
   "execution_count": null,
   "metadata": {},
   "outputs": [],
   "source": []
  }
 ],
 "metadata": {
  "kernelspec": {
   "display_name": "Python 3",
   "language": "python",
   "name": "python3"
  },
  "language_info": {
   "codemirror_mode": {
    "name": "ipython",
    "version": 3
   },
   "file_extension": ".py",
   "mimetype": "text/x-python",
   "name": "python",
   "nbconvert_exporter": "python",
   "pygments_lexer": "ipython3",
   "version": "3.6.5"
  }
 },
 "nbformat": 4,
 "nbformat_minor": 2
}
